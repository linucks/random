{
 "cells": [
  {
   "cell_type": "code",
   "execution_count": 1,
   "metadata": {},
   "outputs": [],
   "source": [
    "import pandas as pd"
   ]
  },
  {
   "cell_type": "code",
   "execution_count": 22,
   "metadata": {},
   "outputs": [],
   "source": [
    "def process_df(df):\n",
    "    \"\"\"Remove unwanted targets and add success criteria\"\"\"\n",
    "    rename_columns = {'shelxeAvgChainLength' : 'SHELXE_ACL',\n",
    "                        'shelxeCC' : 'SHELXE_CC',\n",
    "                        'buccFinalRfree' : 'SXRBUCC_final_Rfree',\n",
    "                        'arpWarpFinalRfree' : 'SXRARP_final_Rfree',\n",
    "                        'rfree' : 'REFMAC_Rfree',\n",
    "                        'pdbCode' : 'native_pdb_code',\n",
    "                        'resolution' : 'native_pdb_resolution',\n",
    "                        'numResidues' : 'native_pdb_num_residues',\n",
    "                        'ensembleName' : 'ensemble_name',\n",
    "                        'ensembleNumResidues' : 'num_residues',\n",
    "                        'ensembleNumModels' : 'subcluster_num_models',\n",
    "                        'phaserLLG' : 'PHASER_LLG',\n",
    "                        'phaserTFZ' : 'PHASER_TFZ',\n",
    "                        'spaceGroup' : 'space_group',\n",
    "                        'solventContent' : 'solvent_content',\n",
    "                        'fastaLength' : 'chain_length',\n",
    "                        'estChainsASU' : 'num_chains',\n",
    "                       }\n",
    "    df.rename(columns=rename_columns, inplace=True)\n",
    "    df['SHELXE_OK'] = (df.SHELXE_CC >= 25) & (df.SHELXE_ACL >= 10)\n",
    "    # or use df_unsucc = df.query(\"successful == 0\")\n",
    "    df[['SXRARP_final_Rfree', 'SXRBUCC_final_Rfree']] = df[['SXRARP_final_Rfree', 'SXRBUCC_final_Rfree']].fillna(1.0)\n",
    "    df['MIN_RFREE'] = df[['SXRARP_final_Rfree', 'SXRBUCC_final_Rfree']].min(axis=1)\n",
    "    df['REBUILD_OK'] = df['MIN_RFREE'] < 0.45\n",
    "    df['REFMAC_OK'] = df['REFMAC_Rfree'] <= 0.45\n",
    "    df['PHASER_OK'] = (df.PHASER_TFZ >= 8.0) | (df.PHASER_LLG > 120)\n",
    "    df['success'] = (df.SHELXE_OK  & df.REBUILD_OK)\n",
    "#     df = df[-df['native_pdb_code'].isin(['2BL2','2UUI','2X2V'])]\n",
    "    return df\n"
   ]
  },
  {
   "cell_type": "code",
   "execution_count": 23,
   "metadata": {},
   "outputs": [],
   "source": [
    "def summarise_df(df):\n",
    "    df.sort_values(['native_pdb_code', 'success', 'SHELXE_CC'], ascending=[1,0,0], inplace=True)\n",
    "    group = df.groupby(['native_pdb_code'])\n",
    "    sdf = group.nth(0)[['native_pdb_resolution', 'native_pdb_num_residues', 'ensemble_name', 'space_group', 'chain_length', 'num_chains', 'solvent_content', 'subcluster_num_models','PHASER_LLG','PHASER_TFZ', 'SHELXE_CC', 'SHELXE_ACL','SXRBUCC_final_Rfree','SXRARP_final_Rfree']]\n",
    "    sdf['success'] = group['success'].sum().astype(int)\n",
    "    sdf['num_models'] = group['native_pdb_code'].size().astype(int)\n",
    "    sdf['PHASER_OK'] = group['PHASER_OK'].sum().astype(int)\n",
    "    sdf['SHELXE_OK'] = group['SHELXE_OK'].sum().astype(int)\n",
    "    sdf['REBUILD_OK'] = group['REBUILD_OK'].sum().astype(int)\n",
    "    # Add native_pdb_code column and reset index to ints\n",
    "    sdf.reset_index('native_pdb_code', inplace=True)\n",
    "    return sdf"
   ]
  },
  {
   "cell_type": "code",
   "execution_count": 25,
   "metadata": {},
   "outputs": [],
   "source": [
    "fname = '/media/scratch/coiled-coil/final_results/final_results.csv'\n",
    "fname = 'final_results.csv'\n",
    "df = pd.read_csv(fname)\n",
    "df = process_df(df)\n",
    "df_summary = summarise_df(df)\n",
    "df_summary.sort_values(['success'],ascending=False, inplace=True)"
   ]
  },
  {
   "cell_type": "code",
   "execution_count": 26,
   "metadata": {},
   "outputs": [],
   "source": [
    "columns = ['native_pdb_code', 'native_pdb_resolution', 'space_group', 'solvent_content', 'chain_length', 'num_chains', 'native_pdb_num_residues']\n",
    "df_summary.loc[df_summary['success'] == 0, columns].to_csv('todo.csv', index=False)\n"
   ]
  },
  {
   "cell_type": "code",
   "execution_count": 27,
   "metadata": {},
   "outputs": [],
   "source": [
    "dfi = pd.read_excel('/Users/jmht/Downloads/cb5097sup2.xlsx')"
   ]
  },
  {
   "cell_type": "code",
   "execution_count": 43,
   "metadata": {},
   "outputs": [
    {
     "name": "stderr",
     "output_type": "stream",
     "text": [
      "/Users/jmht/miniconda2/envs/py36/lib/python3.6/site-packages/ipykernel_launcher.py:4: SettingWithCopyWarning: \n",
      "A value is trying to be set on a copy of a slice from a DataFrame\n",
      "\n",
      "See the caveats in the documentation: http://pandas.pydata.org/pandas-docs/stable/indexing.html#indexing-view-versus-copy\n",
      "  after removing the cwd from sys.path.\n"
     ]
    }
   ],
   "source": [
    "df_fail = df_summary[df_summary['success'] == 0]\n",
    "# dfi[dfi['STRUCTURE'].isin(df_summary['native_pdb_code'].values)]\n",
    "dfif = dfi[dfi['STRUCTURE'].isin(df_fail['native_pdb_code'].values)]\n",
    "dfif.sort_values(['STRUCTURE'], ascending=True, inplace=True)\n",
    "dfif.to_csv('foo.csv')"
   ]
  },
  {
   "cell_type": "code",
   "execution_count": null,
   "metadata": {},
   "outputs": [],
   "source": []
  }
 ],
 "metadata": {
  "kernelspec": {
   "display_name": "Python 3",
   "language": "python",
   "name": "python3"
  },
  "language_info": {
   "codemirror_mode": {
    "name": "ipython",
    "version": 3
   },
   "file_extension": ".py",
   "mimetype": "text/x-python",
   "name": "python",
   "nbconvert_exporter": "python",
   "pygments_lexer": "ipython3",
   "version": "3.6.7"
  }
 },
 "nbformat": 4,
 "nbformat_minor": 2
}
